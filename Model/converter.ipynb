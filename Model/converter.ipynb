{
 "cells": [
  {
   "cell_type": "code",
   "execution_count": 1,
   "metadata": {},
   "outputs": [
    {
     "name": "stdout",
     "output_type": "stream",
     "text": [
      "C:\\Notebooks\\MediaPipe NEWNEWNEW\n",
      "INFO:tensorflow:Assets written to: C:\\Users\\Satyam\\AppData\\Local\\Temp\\tmpqrv1573b\\assets\n"
     ]
    }
   ],
   "source": [
    "import tensorflow as tf\n",
    "import keras\n",
    "import os\n",
    "print(os.getcwd())\n",
    "rightSavePath = 'model/alphabetaRight.h5'\n",
    "leftSavePath = 'model/alphabetaLeft.h5'\n",
    "\n",
    "modelRight = keras.models.load_model(rightSavePath)\n",
    "\n",
    "converter = tf.lite.TFLiteConverter.from_keras_model(modelRight)\n",
    "tflite_model = converter.convert()\n",
    "\n",
    "with open('modelRight.tflite', 'wb') as f:\n",
    "    f.write(tflite_model)"
   ]
  },
  {
   "cell_type": "code",
   "execution_count": 2,
   "metadata": {},
   "outputs": [
    {
     "name": "stdout",
     "output_type": "stream",
     "text": [
      "INFO:tensorflow:Assets written to: C:\\Users\\Satyam\\AppData\\Local\\Temp\\tmp6aw67laf\\assets\n"
     ]
    },
    {
     "name": "stderr",
     "output_type": "stream",
     "text": [
      "INFO:tensorflow:Assets written to: C:\\Users\\Satyam\\AppData\\Local\\Temp\\tmp6aw67laf\\assets\n"
     ]
    }
   ],
   "source": [
    "modelLeft = keras.models.load_model(leftSavePath)\n",
    "\n",
    "converter = tf.lite.TFLiteConverter.from_keras_model(modelLeft)\n",
    "tflite_model = converter.convert()\n",
    "\n",
    "with open('modelLeft.tflite', 'wb') as f:\n",
    "    f.write(tflite_model)"
   ]
  },
  {
   "cell_type": "code",
   "execution_count": null,
   "metadata": {},
   "outputs": [],
   "source": []
  }
 ],
 "metadata": {
  "kernelspec": {
   "display_name": "Python 3",
   "language": "python",
   "name": "python3"
  },
  "language_info": {
   "codemirror_mode": {
    "name": "ipython",
    "version": 3
   },
   "file_extension": ".py",
   "mimetype": "text/x-python",
   "name": "python",
   "nbconvert_exporter": "python",
   "pygments_lexer": "ipython3",
   "version": "3.8.5"
  }
 },
 "nbformat": 4,
 "nbformat_minor": 4
}
