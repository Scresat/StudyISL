{
 "cells": [
  {
   "cell_type": "code",
   "execution_count": 5,
   "metadata": {},
   "outputs": [
    {
     "name": "stdout",
     "output_type": "stream",
     "text": [
      "C:\\Notebooks\\ISL\n"
     ]
    }
   ],
   "source": [
    "import keras\n",
    "import os\n",
    "from keras_visualizer import visualizer \n",
    "rightSavePath = 'model/alphabetaRight.h5'\n",
    "leftSavePath = 'model/alphabetaLeft.h5'\n",
    "\n",
    "print(os.getcwd())\n",
    "modelLeft = keras.models.load_model(leftSavePath)\n",
    "modelRight = keras.models.load_model(rightSavePath)\n",
    "\n",
    "visualizer(modelRight, format='png', view=True)"
   ]
  },
  {
   "cell_type": "code",
   "execution_count": 3,
   "metadata": {},
   "outputs": [],
   "source": [
    "import graphviz"
   ]
  },
  {
   "cell_type": "code",
   "execution_count": null,
   "metadata": {},
   "outputs": [],
   "source": []
  }
 ],
 "metadata": {
  "kernelspec": {
   "display_name": "Python 3",
   "language": "python",
   "name": "python3"
  },
  "language_info": {
   "codemirror_mode": {
    "name": "ipython",
    "version": 3
   },
   "file_extension": ".py",
   "mimetype": "text/x-python",
   "name": "python",
   "nbconvert_exporter": "python",
   "pygments_lexer": "ipython3",
   "version": "3.8.5"
  }
 },
 "nbformat": 4,
 "nbformat_minor": 4
}
